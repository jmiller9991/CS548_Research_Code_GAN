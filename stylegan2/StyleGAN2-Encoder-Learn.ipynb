{
 "cells": [
  {
   "cell_type": "code",
   "execution_count": 1,
   "metadata": {},
   "outputs": [
    {
     "name": "stdout",
     "output_type": "stream",
     "text": [
      "Thu Nov  5 21:44:25 2020       \r\n",
      "+-----------------------------------------------------------------------------+\r\n",
      "| NVIDIA-SMI 435.21       Driver Version: 435.21       CUDA Version: 10.1     |\r\n",
      "|-------------------------------+----------------------+----------------------+\r\n",
      "| GPU  Name        Persistence-M| Bus-Id        Disp.A | Volatile Uncorr. ECC |\r\n",
      "| Fan  Temp  Perf  Pwr:Usage/Cap|         Memory-Usage | GPU-Util  Compute M. |\r\n",
      "|===============================+======================+======================|\r\n",
      "|   0  GeForce RTX 208...  Off  | 00000000:3B:00.0 Off |                  N/A |\r\n",
      "| 28%   42C    P8    20W / 250W |      7MiB / 11019MiB |      0%      Default |\r\n",
      "+-------------------------------+----------------------+----------------------+\r\n",
      "|   1  GeForce RTX 208...  Off  | 00000000:5E:00.0 Off |                  N/A |\r\n",
      "| 27%   35C    P8    20W / 250W |      7MiB / 11019MiB |      0%      Default |\r\n",
      "+-------------------------------+----------------------+----------------------+\r\n",
      "|   2  GeForce RTX 208...  Off  | 00000000:AF:00.0 Off |                  N/A |\r\n",
      "| 27%   38C    P8    20W / 250W |     22MiB / 11019MiB |      0%      Default |\r\n",
      "+-------------------------------+----------------------+----------------------+\r\n",
      "                                                                               \r\n",
      "+-----------------------------------------------------------------------------+\r\n",
      "| Processes:                                                       GPU Memory |\r\n",
      "|  GPU       PID   Type   Process name                             Usage      |\r\n",
      "|=============================================================================|\r\n",
      "|    0      1707      G   /usr/lib/xorg/Xorg                             5MiB |\r\n",
      "|    1      1707      G   /usr/lib/xorg/Xorg                             5MiB |\r\n",
      "|    2      1707      G   /usr/lib/xorg/Xorg                             9MiB |\r\n",
      "|    2      1795      G   /usr/bin/gnome-shell                          10MiB |\r\n",
      "+-----------------------------------------------------------------------------+\r\n"
     ]
    }
   ],
   "source": [
    "!nvidia-smi"
   ]
  },
  {
   "cell_type": "code",
   "execution_count": 2,
   "metadata": {},
   "outputs": [],
   "source": [
    "import json\n",
    "import os\n",
    "import numpy as np\n",
    "import warnings\n",
    "import matplotlib.pylab as plt\n",
    "%matplotlib inline\n",
    "warnings.filterwarnings(\"ignore\")"
   ]
  },
  {
   "cell_type": "markdown",
   "metadata": {},
   "source": [
    "#### This section is responsible for loading the face annotations."
   ]
  },
  {
   "cell_type": "code",
   "execution_count": 3,
   "metadata": {},
   "outputs": [],
   "source": [
    "FACE_ANNOTATIONS = \"/home/firschj/src/CS548_Research_Code_GAN/Data/NVIDIA_StyleGAN2_Curated_Faces_sorted.json\""
   ]
  },
  {
   "cell_type": "code",
   "execution_count": 4,
   "metadata": {},
   "outputs": [
    {
     "data": {
      "text/plain": [
       "{'faceId': '800a28fe-d246-4da1-978d-10f112dad923',\n",
       " 'faceRectangle': {'top': 331, 'left': 223, 'width': 575, 'height': 575},\n",
       " 'faceLandmarks': {'pupilLeft': {'x': 394.2, 'y': 477.5},\n",
       "  'pupilRight': {'x': 627.8, 'y': 475.4},\n",
       "  'noseTip': {'x': 512.5, 'y': 646.9},\n",
       "  'mouthLeft': {'x': 407.8, 'y': 763.2},\n",
       "  'mouthRight': {'x': 614.1, 'y': 760.5},\n",
       "  'eyebrowLeftOuter': {'x': 315.7, 'y': 439.4},\n",
       "  'eyebrowLeftInner': {'x': 481.1, 'y': 434.8},\n",
       "  'eyeLeftOuter': {'x': 364.1, 'y': 480.2},\n",
       "  'eyeLeftTop': {'x': 398.8, 'y': 465.2},\n",
       "  'eyeLeftBottom': {'x': 399.3, 'y': 494.3},\n",
       "  'eyeLeftInner': {'x': 434.1, 'y': 478.1},\n",
       "  'eyebrowRightInner': {'x': 566.5, 'y': 426.0},\n",
       "  'eyebrowRightOuter': {'x': 724.9, 'y': 421.1},\n",
       "  'eyeRightInner': {'x': 593.6, 'y': 474.9},\n",
       "  'eyeRightTop': {'x': 624.7, 'y': 462.9},\n",
       "  'eyeRightBottom': {'x': 625.2, 'y': 492.2},\n",
       "  'eyeRightOuter': {'x': 659.5, 'y': 479.2},\n",
       "  'noseRootLeft': {'x': 479.1, 'y': 486.3},\n",
       "  'noseRootRight': {'x': 541.7, 'y': 483.7},\n",
       "  'noseLeftAlarTop': {'x': 465.8, 'y': 599.5},\n",
       "  'noseRightAlarTop': {'x': 555.8, 'y': 590.4},\n",
       "  'noseLeftAlarOutTip': {'x': 440.9, 'y': 647.1},\n",
       "  'noseRightAlarOutTip': {'x': 585.9, 'y': 646.5},\n",
       "  'upperLipTop': {'x': 510.9, 'y': 747.0},\n",
       "  'upperLipBottom': {'x': 509.0, 'y': 763.3},\n",
       "  'underLipTop': {'x': 508.0, 'y': 763.7},\n",
       "  'underLipBottom': {'x': 509.1, 'y': 783.8}},\n",
       " 'faceAttributes': {'smile': 0.0,\n",
       "  'headPose': {'pitch': -5.5, 'roll': -0.8, 'yaw': 1.1},\n",
       "  'gender': 'male',\n",
       "  'age': 53.0,\n",
       "  'facialHair': {'moustache': 0.4, 'beard': 0.4, 'sideburns': 0.1},\n",
       "  'glasses': 'NoGlasses',\n",
       "  'emotion': {'anger': 0.021,\n",
       "   'contempt': 0.022,\n",
       "   'disgust': 0.0,\n",
       "   'fear': 0.0,\n",
       "   'happiness': 0.0,\n",
       "   'neutral': 0.954,\n",
       "   'sadness': 0.002,\n",
       "   'surprise': 0.0},\n",
       "  'blur': {'blurLevel': 'low', 'value': 0.0},\n",
       "  'exposure': {'exposureLevel': 'goodExposure', 'value': 0.65},\n",
       "  'noise': {'noiseLevel': 'low', 'value': 0.0},\n",
       "  'makeup': {'eyeMakeup': False, 'lipMakeup': False},\n",
       "  'accessories': [],\n",
       "  'occlusion': {'foreheadOccluded': False,\n",
       "   'eyeOccluded': False,\n",
       "   'mouthOccluded': False},\n",
       "  'hair': {'bald': 0.06,\n",
       "   'invisible': False,\n",
       "   'hairColor': [{'color': 'black', 'confidence': 0.97},\n",
       "    {'color': 'gray', 'confidence': 0.95},\n",
       "    {'color': 'brown', 'confidence': 0.83},\n",
       "    {'color': 'other', 'confidence': 0.3},\n",
       "    {'color': 'blond', 'confidence': 0.04},\n",
       "    {'color': 'red', 'confidence': 0.02},\n",
       "    {'color': 'white', 'confidence': 0.0}]}},\n",
       " 'localFacePath': '/home/firschj/data/ffhq-1024x1024/ffhq-0001.png'}"
      ]
     },
     "execution_count": 4,
     "metadata": {},
     "output_type": "execute_result"
    }
   ],
   "source": [
    "with open(FACE_ANNOTATIONS) as f:\n",
    "    labels_data = json.load(f)\n",
    "labels_data[0]"
   ]
  },
  {
   "cell_type": "markdown",
   "metadata": {},
   "source": [
    "This cell is specifically for data validation. This does not need to be run if you are confident your data is valid."
   ]
  },
  {
   "cell_type": "code",
   "execution_count": 5,
   "metadata": {},
   "outputs": [
    {
     "name": "stdout",
     "output_type": "stream",
     "text": [
      "All of the data is valid, continuing...\n"
     ]
    }
   ],
   "source": [
    "assert(len(labels_data) != 0)\n",
    "assert(labels_data[0] != {})\n",
    "\n",
    "_dne = []\n",
    "for _face in labels_data:\n",
    "    if not os.path.isfile(_face[\"localFacePath\"]):\n",
    "        _dne.append(_face[\"localFacePath\"])\n",
    "if _dne:\n",
    "    raise FileNotFoundError(f\"The following files were not located: {', '.join(_dne)}\")\n",
    "\n",
    "print(\"All of the data is valid, continuing...\")"
   ]
  },
  {
   "cell_type": "code",
   "execution_count": 6,
   "metadata": {},
   "outputs": [],
   "source": [
    "LATENT_TRAINING_DATA = \"/home/firschj/src/CS548_Research_Code_GAN/stylegan2/backprojection/dlatent_master_file.npy\""
   ]
  },
  {
   "cell_type": "code",
   "execution_count": 7,
   "metadata": {},
   "outputs": [
    {
     "data": {
      "text/plain": [
       "(263, 18, 512)"
      ]
     },
     "execution_count": 7,
     "metadata": {},
     "output_type": "execute_result"
    }
   ],
   "source": [
    "dlatent_data = np.load(LATENT_TRAINING_DATA)\n",
    "dlatent_data.shape"
   ]
  },
  {
   "cell_type": "code",
   "execution_count": 8,
   "metadata": {},
   "outputs": [],
   "source": [
    "X_data = dlatent_data.reshape((-1, 18*512))\n",
    "y_age_data = np.array([x['faceAttributes']['age'] for x in labels_data])\n",
    "y_age_kid_data = np.array([x['faceAttributes']['age'] < 5 for x in labels_data])\n",
    "y_age_young_data = np.array([x['faceAttributes']['age'] > 15  for x in labels_data])\n",
    "y_age_middle_data = np.array([x['faceAttributes']['age'] > 30 for x in labels_data])\n",
    "y_age_old_data = np.array([x['faceAttributes']['age'] > 60 for x in labels_data])\n",
    "y_gender_data = np.array([x['faceAttributes']['gender'] == 'male' for x in labels_data]) \n",
    "y_glasses_data = np.array([x['faceAttributes']['glasses'] != 'NoGlasses' for x in labels_data])\n",
    "y_eyeMakeup_data = np.array([x['faceAttributes']['makeup']['eyeMakeup'] == True for x in labels_data]) \n",
    "y_lipMakeup_data = np.array([x['faceAttributes']['makeup']['lipMakeup'] == False for x in labels_data]) \n",
    "y_headPose_roll__data = np.array([x['faceAttributes']['headPose']['roll'] < 0.8 for x in labels_data])\n",
    "y_headPose_yaw__data = np.array([x['faceAttributes']['headPose']['yaw'] < 0.8 for x in labels_data])\n",
    "y_smile_data = np.array([x['faceAttributes']['smile'] > 0.5 for x in labels_data])\n",
    "y_anger_data = np.array([x['faceAttributes']['emotion']['anger'] > 0.1 for x in labels_data]) \n",
    "y_sadness_data = np.array([x['faceAttributes']['emotion']['sadness'] > 0.1 for x in labels_data]) \n",
    "y_contempt_data = np.array([x['faceAttributes']['emotion']['contempt'] > 0.2 for x in labels_data]) \n",
    "y_disgust_data = np.array([x['faceAttributes']['emotion']['disgust'] > 0.1 for x in labels_data]) \n",
    "y_fear_data = np.array([x['faceAttributes']['emotion']['fear'] > 0.1 for x in labels_data]) \n",
    "y_happiness_data = np.array([x['faceAttributes']['emotion']['happiness'] > 0.2 for x in labels_data]) \n",
    "y_neutral_data = np.array([x['faceAttributes']['emotion']['neutral'] > 0.2 for x in labels_data]) \n",
    "y_surprise_data = np.array([x['faceAttributes']['emotion']['surprise'] > 0.2 for x in labels_data]) \n",
    "y_beard_data = np.array([x['faceAttributes']['facialHair']['moustache'] > 0.5 for x in labels_data]) \n",
    "y_moustache_data = np.array([x['faceAttributes']['facialHair']['moustache'] > 0.5 for x in labels_data]) \n",
    "y_sideburns_data = np.array([x['faceAttributes']['facialHair']['sideburns'] > 0.5 for x in labels_data])"
   ]
  },
  {
   "cell_type": "markdown",
   "metadata": {},
   "source": [
    "This cell is specifically for data validation. This does not need to be run if you are confident your data is valid.¶"
   ]
  },
  {
   "cell_type": "code",
   "execution_count": 9,
   "metadata": {},
   "outputs": [
    {
     "data": {
      "text/plain": [
       "263"
      ]
     },
     "execution_count": 9,
     "metadata": {},
     "output_type": "execute_result"
    }
   ],
   "source": [
    "assert(len(X_data) == len(y_age_data) == len(y_gender_data))\n",
    "len(X_data)"
   ]
  },
  {
   "cell_type": "code",
   "execution_count": 10,
   "metadata": {},
   "outputs": [],
   "source": [
    "from sklearn.linear_model import LogisticRegression, SGDClassifier\n",
    "from sklearn.model_selection import StratifiedKFold, cross_val_score, train_test_split\n",
    "from sklearn.metrics import accuracy_score"
   ]
  },
  {
   "cell_type": "code",
   "execution_count": 11,
   "metadata": {},
   "outputs": [],
   "source": [
    "TRAINED_DIRECTIONS = \"trained_directions\"\n",
    "if not os.path.isdir(TRAINED_DIRECTIONS):\n",
    "    os.makedirs(TRAINED_DIRECTIONS)"
   ]
  },
  {
   "cell_type": "code",
   "execution_count": 12,
   "metadata": {},
   "outputs": [
    {
     "name": "stdout",
     "output_type": "stream",
     "text": [
      "Learning Young\n",
      "CPU times: user 2.61 s, sys: 3.1 ms, total: 2.61 s\n",
      "Wall time: 2.61 s\n"
     ]
    }
   ],
   "source": [
    "%%time\n",
    "print(\"Learning Young\")\n",
    "clf_age_young = LogisticRegression(class_weight='balanced',solver='saga').fit(X_data, y_age_young_data)\n",
    "age_young_direction = clf_age_young.coef_.reshape((18, 512))\n",
    "np.save(os.path.join(TRAINED_DIRECTIONS, \"age_young_direction.npy\"), age_young_direction)"
   ]
  },
  {
   "cell_type": "code",
   "execution_count": 13,
   "metadata": {},
   "outputs": [
    {
     "name": "stdout",
     "output_type": "stream",
     "text": [
      "Learning Kid\n",
      "CPU times: user 3.66 s, sys: 69.3 ms, total: 3.73 s\n",
      "Wall time: 277 ms\n"
     ]
    }
   ],
   "source": [
    "%%time\n",
    "print(\"Learning Kid\")\n",
    "clf_age_kid = LogisticRegression(class_weight='balanced').fit(X_data, y_age_kid_data)\n",
    "age_kid_direction = clf_age_kid.coef_.reshape((18, 512))\n",
    "np.save(os.path.join(TRAINED_DIRECTIONS, \"age_kid_direction.npy\"), age_kid_direction)"
   ]
  },
  {
   "cell_type": "code",
   "execution_count": 14,
   "metadata": {},
   "outputs": [
    {
     "name": "stdout",
     "output_type": "stream",
     "text": [
      "Learning Middle Age\n",
      "CPU times: user 5.73 s, sys: 129 ms, total: 5.86 s\n",
      "Wall time: 293 ms\n"
     ]
    }
   ],
   "source": [
    "%%time\n",
    "print(\"Learning Middle Age\")\n",
    "clf_age_middle = LogisticRegression(class_weight='balanced').fit(X_data, y_age_middle_data)\n",
    "age_middle_direction = clf_age_middle.coef_.reshape((18, 512))\n",
    "np.save(os.path.join(TRAINED_DIRECTIONS, \"age_middle_direction.npy\"), age_middle_direction)"
   ]
  },
  {
   "cell_type": "code",
   "execution_count": 15,
   "metadata": {},
   "outputs": [
    {
     "name": "stdout",
     "output_type": "stream",
     "text": [
      "Learning Old\n",
      "CPU times: user 3.56 s, sys: 102 ms, total: 3.67 s\n",
      "Wall time: 183 ms\n"
     ]
    }
   ],
   "source": [
    "%%time\n",
    "print(\"Learning Old\")\n",
    "clf_age_old = LogisticRegression(class_weight='balanced').fit(X_data, y_age_old_data)\n",
    "age_old_direction = clf_age_old.coef_.reshape((18, 512))\n",
    "np.save(os.path.join(TRAINED_DIRECTIONS, \"age_old_direction.npy\"), age_old_direction)"
   ]
  },
  {
   "cell_type": "code",
   "execution_count": 16,
   "metadata": {},
   "outputs": [
    {
     "name": "stdout",
     "output_type": "stream",
     "text": [
      "Learning Gender\n",
      "CPU times: user 4.28 s, sys: 60.4 ms, total: 4.34 s\n",
      "Wall time: 217 ms\n"
     ]
    }
   ],
   "source": [
    "%%time\n",
    "print(\"Learning Gender\")\n",
    "clf_gender = LogisticRegression(class_weight='balanced').fit(X_data, y_gender_data)\n",
    "gender_direction = clf_gender.coef_.reshape((18, 512))\n",
    "np.save(os.path.join(TRAINED_DIRECTIONS, \"gender_direction.npy\"), gender_direction)"
   ]
  },
  {
   "cell_type": "code",
   "execution_count": 17,
   "metadata": {},
   "outputs": [
    {
     "name": "stdout",
     "output_type": "stream",
     "text": [
      "Learning Smile\n",
      "CPU times: user 5.84 s, sys: 127 ms, total: 5.96 s\n",
      "Wall time: 298 ms\n"
     ]
    }
   ],
   "source": [
    "%%time\n",
    "print(\"Learning Smile\")\n",
    "clf_smile = LogisticRegression(class_weight='balanced').fit(X_data, y_smile_data)\n",
    "smile_direction = clf_smile.coef_.reshape((18, 512))\n",
    "np.save(os.path.join(TRAINED_DIRECTIONS, \"smile_direction.npy\"), smile_direction)"
   ]
  },
  {
   "cell_type": "code",
   "execution_count": 18,
   "metadata": {},
   "outputs": [
    {
     "name": "stdout",
     "output_type": "stream",
     "text": [
      "Learning Glasses\n",
      "CPU times: user 4.83 s, sys: 87 ms, total: 4.92 s\n",
      "Wall time: 246 ms\n"
     ]
    }
   ],
   "source": [
    "%%time\n",
    "print(\"Learning Glasses\")\n",
    "clf_glasses = LogisticRegression(class_weight='balanced').fit(X_data, y_glasses_data)\n",
    "glasses_direction = clf_glasses.coef_.reshape((18, 512))\n",
    "np.save(os.path.join(TRAINED_DIRECTIONS, \"glasses_direction.npy\"), glasses_direction)"
   ]
  },
  {
   "cell_type": "code",
   "execution_count": 19,
   "metadata": {},
   "outputs": [
    {
     "name": "stdout",
     "output_type": "stream",
     "text": [
      "Learning Head Yaw\n",
      "CPU times: user 6.23 s, sys: 164 ms, total: 6.4 s\n",
      "Wall time: 320 ms\n"
     ]
    }
   ],
   "source": [
    "%%time\n",
    "print(\"Learning Head Yaw\")\n",
    "clf_headPose_yaw = LogisticRegression(class_weight='balanced').fit(X_data, y_headPose_yaw__data)\n",
    "headPose_yaw_direction = clf_headPose_yaw.coef_.reshape((18, 512))\n",
    "np.save(os.path.join(TRAINED_DIRECTIONS, \"headPose_yaw_direction.npy\"), headPose_yaw_direction)"
   ]
  },
  {
   "cell_type": "code",
   "execution_count": 20,
   "metadata": {},
   "outputs": [
    {
     "name": "stdout",
     "output_type": "stream",
     "text": [
      "Learning Eye Makeup\n",
      "CPU times: user 5.88 s, sys: 128 ms, total: 6.01 s\n",
      "Wall time: 300 ms\n"
     ]
    }
   ],
   "source": [
    "%%time\n",
    "print(\"Learning Eye Makeup\")\n",
    "clf_eyeMakeup = LogisticRegression(class_weight='balanced').fit(X_data, y_eyeMakeup_data)\n",
    "eyeMakeup_direction = clf_eyeMakeup.coef_.reshape((18, 512))\n",
    "np.save(os.path.join(TRAINED_DIRECTIONS, \"eyeMakeup_direction.npy\"), eyeMakeup_direction)"
   ]
  },
  {
   "cell_type": "code",
   "execution_count": 21,
   "metadata": {},
   "outputs": [
    {
     "name": "stdout",
     "output_type": "stream",
     "text": [
      "Learning Lip Makeup\n",
      "CPU times: user 5.49 s, sys: 95.8 ms, total: 5.59 s\n",
      "Wall time: 279 ms\n"
     ]
    }
   ],
   "source": [
    "%%time\n",
    "print(\"Learning Lip Makeup\")\n",
    "clf_lipMakeup = LogisticRegression(class_weight='balanced').fit(X_data, y_lipMakeup_data)\n",
    "lipMakeup_direction = clf_lipMakeup.coef_.reshape((18, 512))\n",
    "np.save(os.path.join(TRAINED_DIRECTIONS, \"lipMakeup_direction.npy\"), lipMakeup_direction)"
   ]
  },
  {
   "cell_type": "code",
   "execution_count": 22,
   "metadata": {},
   "outputs": [
    {
     "name": "stdout",
     "output_type": "stream",
     "text": [
      "Learning Head Roll\n",
      "CPU times: user 4.75 s, sys: 96.9 ms, total: 4.84 s\n",
      "Wall time: 242 ms\n"
     ]
    }
   ],
   "source": [
    "%%time\n",
    "print(\"Learning Head Roll\")\n",
    "clf_headPose_roll = LogisticRegression(class_weight='balanced').fit(X_data, y_headPose_roll__data)\n",
    "headPose_roll_direction = clf_headPose_roll.coef_.reshape((18, 512))\n",
    "np.save(os.path.join(TRAINED_DIRECTIONS, \"headPose_roll_direction.npy\"), headPose_roll_direction)"
   ]
  },
  {
   "cell_type": "code",
   "execution_count": 23,
   "metadata": {},
   "outputs": [
    {
     "name": "stdout",
     "output_type": "stream",
     "text": [
      "Learning Anger\n",
      "CPU times: user 2.06 s, sys: 28.1 ms, total: 2.09 s\n",
      "Wall time: 104 ms\n"
     ]
    }
   ],
   "source": [
    "%%time\n",
    "print(\"Learning Anger\")\n",
    "clf_anger = LogisticRegression(class_weight='balanced').fit(X_data, y_anger_data)\n",
    "anger_direction = clf_anger.coef_.reshape((18, 512))\n",
    "np.save(os.path.join(TRAINED_DIRECTIONS, \"anger_direction.npy\"), anger_direction)"
   ]
  },
  {
   "cell_type": "code",
   "execution_count": 24,
   "metadata": {},
   "outputs": [
    {
     "name": "stdout",
     "output_type": "stream",
     "text": [
      "Learning Sadness\n",
      "CPU times: user 2.42 s, sys: 64.2 ms, total: 2.49 s\n",
      "Wall time: 124 ms\n"
     ]
    }
   ],
   "source": [
    "%%time\n",
    "print(\"Learning Sadness\")\n",
    "clf_sadness = LogisticRegression(class_weight='balanced').fit(X_data, y_sadness_data)\n",
    "sadness_direction = clf_sadness.coef_.reshape((18, 512))\n",
    "np.save(os.path.join(TRAINED_DIRECTIONS, \"sadness_direction.npy\"), sadness_direction)"
   ]
  },
  {
   "cell_type": "code",
   "execution_count": 25,
   "metadata": {},
   "outputs": [
    {
     "name": "stdout",
     "output_type": "stream",
     "text": [
      "Learning Contempt\n"
     ]
    },
    {
     "ename": "ValueError",
     "evalue": "This solver needs samples of at least 2 classes in the data, but the data contains only one class: False",
     "output_type": "error",
     "traceback": [
      "\u001b[0;31m---------------------------------------------------------------------------\u001b[0m",
      "\u001b[0;31mValueError\u001b[0m                                Traceback (most recent call last)",
      "\u001b[0;32m<timed exec>\u001b[0m in \u001b[0;36m<module>\u001b[0;34m\u001b[0m\n",
      "\u001b[0;32m/opt/anaconda3/lib/python3.8/site-packages/sklearn/linear_model/_logistic.py\u001b[0m in \u001b[0;36mfit\u001b[0;34m(self, X, y, sample_weight)\u001b[0m\n\u001b[1;32m   1370\u001b[0m         \u001b[0mclasses_\u001b[0m \u001b[0;34m=\u001b[0m \u001b[0mself\u001b[0m\u001b[0;34m.\u001b[0m\u001b[0mclasses_\u001b[0m\u001b[0;34m\u001b[0m\u001b[0;34m\u001b[0m\u001b[0m\n\u001b[1;32m   1371\u001b[0m         \u001b[0;32mif\u001b[0m \u001b[0mn_classes\u001b[0m \u001b[0;34m<\u001b[0m \u001b[0;36m2\u001b[0m\u001b[0;34m:\u001b[0m\u001b[0;34m\u001b[0m\u001b[0;34m\u001b[0m\u001b[0m\n\u001b[0;32m-> 1372\u001b[0;31m             raise ValueError(\"This solver needs samples of at least 2 classes\"\n\u001b[0m\u001b[1;32m   1373\u001b[0m                              \u001b[0;34m\" in the data, but the data contains only one\"\u001b[0m\u001b[0;34m\u001b[0m\u001b[0;34m\u001b[0m\u001b[0m\n\u001b[1;32m   1374\u001b[0m                              \" class: %r\" % classes_[0])\n",
      "\u001b[0;31mValueError\u001b[0m: This solver needs samples of at least 2 classes in the data, but the data contains only one class: False"
     ]
    }
   ],
   "source": [
    "%%time\n",
    "print(\"Learning Contempt\")\n",
    "clf_contempt = LogisticRegression(class_weight='balanced').fit(X_data, y_contempt_data)\n",
    "contempt_direction = clf_contempt.coef_.reshape((18, 512))\n",
    "np.save(os.path.join(TRAINED_DIRECTIONS, \"contempt_direction.npy\"), contempt_direction)"
   ]
  },
  {
   "cell_type": "code",
   "execution_count": 26,
   "metadata": {},
   "outputs": [
    {
     "name": "stdout",
     "output_type": "stream",
     "text": [
      "Learning Disgust\n"
     ]
    },
    {
     "ename": "ValueError",
     "evalue": "This solver needs samples of at least 2 classes in the data, but the data contains only one class: False",
     "output_type": "error",
     "traceback": [
      "\u001b[0;31m---------------------------------------------------------------------------\u001b[0m",
      "\u001b[0;31mValueError\u001b[0m                                Traceback (most recent call last)",
      "\u001b[0;32m<timed exec>\u001b[0m in \u001b[0;36m<module>\u001b[0;34m\u001b[0m\n",
      "\u001b[0;32m/opt/anaconda3/lib/python3.8/site-packages/sklearn/linear_model/_logistic.py\u001b[0m in \u001b[0;36mfit\u001b[0;34m(self, X, y, sample_weight)\u001b[0m\n\u001b[1;32m   1370\u001b[0m         \u001b[0mclasses_\u001b[0m \u001b[0;34m=\u001b[0m \u001b[0mself\u001b[0m\u001b[0;34m.\u001b[0m\u001b[0mclasses_\u001b[0m\u001b[0;34m\u001b[0m\u001b[0;34m\u001b[0m\u001b[0m\n\u001b[1;32m   1371\u001b[0m         \u001b[0;32mif\u001b[0m \u001b[0mn_classes\u001b[0m \u001b[0;34m<\u001b[0m \u001b[0;36m2\u001b[0m\u001b[0;34m:\u001b[0m\u001b[0;34m\u001b[0m\u001b[0;34m\u001b[0m\u001b[0m\n\u001b[0;32m-> 1372\u001b[0;31m             raise ValueError(\"This solver needs samples of at least 2 classes\"\n\u001b[0m\u001b[1;32m   1373\u001b[0m                              \u001b[0;34m\" in the data, but the data contains only one\"\u001b[0m\u001b[0;34m\u001b[0m\u001b[0;34m\u001b[0m\u001b[0m\n\u001b[1;32m   1374\u001b[0m                              \" class: %r\" % classes_[0])\n",
      "\u001b[0;31mValueError\u001b[0m: This solver needs samples of at least 2 classes in the data, but the data contains only one class: False"
     ]
    }
   ],
   "source": [
    "%%time\n",
    "print(\"Learning Disgust\")\n",
    "clf_disgust = LogisticRegression(class_weight='balanced').fit(X_data, y_disgust_data)\n",
    "disgust_direction = clf_disgust.coef_.reshape((18, 512))\n",
    "np.save(os.path.join(TRAINED_DIRECTIONS, \"disgust_direction.npy\"), disgust_direction)"
   ]
  },
  {
   "cell_type": "code",
   "execution_count": 27,
   "metadata": {},
   "outputs": [
    {
     "name": "stdout",
     "output_type": "stream",
     "text": [
      "Learning Fear\n"
     ]
    },
    {
     "ename": "ValueError",
     "evalue": "This solver needs samples of at least 2 classes in the data, but the data contains only one class: False",
     "output_type": "error",
     "traceback": [
      "\u001b[0;31m---------------------------------------------------------------------------\u001b[0m",
      "\u001b[0;31mValueError\u001b[0m                                Traceback (most recent call last)",
      "\u001b[0;32m<timed exec>\u001b[0m in \u001b[0;36m<module>\u001b[0;34m\u001b[0m\n",
      "\u001b[0;32m/opt/anaconda3/lib/python3.8/site-packages/sklearn/linear_model/_logistic.py\u001b[0m in \u001b[0;36mfit\u001b[0;34m(self, X, y, sample_weight)\u001b[0m\n\u001b[1;32m   1370\u001b[0m         \u001b[0mclasses_\u001b[0m \u001b[0;34m=\u001b[0m \u001b[0mself\u001b[0m\u001b[0;34m.\u001b[0m\u001b[0mclasses_\u001b[0m\u001b[0;34m\u001b[0m\u001b[0;34m\u001b[0m\u001b[0m\n\u001b[1;32m   1371\u001b[0m         \u001b[0;32mif\u001b[0m \u001b[0mn_classes\u001b[0m \u001b[0;34m<\u001b[0m \u001b[0;36m2\u001b[0m\u001b[0;34m:\u001b[0m\u001b[0;34m\u001b[0m\u001b[0;34m\u001b[0m\u001b[0m\n\u001b[0;32m-> 1372\u001b[0;31m             raise ValueError(\"This solver needs samples of at least 2 classes\"\n\u001b[0m\u001b[1;32m   1373\u001b[0m                              \u001b[0;34m\" in the data, but the data contains only one\"\u001b[0m\u001b[0;34m\u001b[0m\u001b[0;34m\u001b[0m\u001b[0m\n\u001b[1;32m   1374\u001b[0m                              \" class: %r\" % classes_[0])\n",
      "\u001b[0;31mValueError\u001b[0m: This solver needs samples of at least 2 classes in the data, but the data contains only one class: False"
     ]
    }
   ],
   "source": [
    "%%time\n",
    "print(\"Learning Fear\")\n",
    "clf_fear = LogisticRegression(class_weight='balanced').fit(X_data, y_fear_data)\n",
    "fear_direction = clf_fear.coef_.reshape((18, 512))\n",
    "np.save(os.path.join(TRAINED_DIRECTIONS, \"fear_direction.npy\"), fear_direction)"
   ]
  },
  {
   "cell_type": "code",
   "execution_count": 28,
   "metadata": {},
   "outputs": [
    {
     "name": "stdout",
     "output_type": "stream",
     "text": [
      "Learning Happy\n",
      "CPU times: user 5.6 s, sys: 127 ms, total: 5.73 s\n",
      "Wall time: 286 ms\n"
     ]
    }
   ],
   "source": [
    "%%time\n",
    "print(\"Learning Happy\")\n",
    "clf_happiness = LogisticRegression(class_weight='balanced').fit(X_data, y_happiness_data)\n",
    "happiness_direction = clf_happiness.coef_.reshape((18, 512))\n",
    "np.save(os.path.join(TRAINED_DIRECTIONS, \"happiness_direction.npy\"), happiness_direction)"
   ]
  },
  {
   "cell_type": "code",
   "execution_count": 29,
   "metadata": {},
   "outputs": [
    {
     "name": "stdout",
     "output_type": "stream",
     "text": [
      "Learning Neutral\n",
      "CPU times: user 4.69 s, sys: 71.1 ms, total: 4.76 s\n",
      "Wall time: 238 ms\n"
     ]
    }
   ],
   "source": [
    "%%time\n",
    "print(\"Learning Neutral\")\n",
    "clf_neutral = LogisticRegression(class_weight='balanced').fit(X_data, y_neutral_data)\n",
    "neutral_direction = clf_neutral.coef_.reshape((18, 512))\n",
    "np.save(os.path.join(TRAINED_DIRECTIONS, \"neutral_direction.npy\"), neutral_direction)"
   ]
  },
  {
   "cell_type": "code",
   "execution_count": 30,
   "metadata": {},
   "outputs": [
    {
     "name": "stdout",
     "output_type": "stream",
     "text": [
      "Learning Surprise\n"
     ]
    },
    {
     "ename": "ValueError",
     "evalue": "This solver needs samples of at least 2 classes in the data, but the data contains only one class: False",
     "output_type": "error",
     "traceback": [
      "\u001b[0;31m---------------------------------------------------------------------------\u001b[0m",
      "\u001b[0;31mValueError\u001b[0m                                Traceback (most recent call last)",
      "\u001b[0;32m<timed exec>\u001b[0m in \u001b[0;36m<module>\u001b[0;34m\u001b[0m\n",
      "\u001b[0;32m/opt/anaconda3/lib/python3.8/site-packages/sklearn/linear_model/_logistic.py\u001b[0m in \u001b[0;36mfit\u001b[0;34m(self, X, y, sample_weight)\u001b[0m\n\u001b[1;32m   1370\u001b[0m         \u001b[0mclasses_\u001b[0m \u001b[0;34m=\u001b[0m \u001b[0mself\u001b[0m\u001b[0;34m.\u001b[0m\u001b[0mclasses_\u001b[0m\u001b[0;34m\u001b[0m\u001b[0;34m\u001b[0m\u001b[0m\n\u001b[1;32m   1371\u001b[0m         \u001b[0;32mif\u001b[0m \u001b[0mn_classes\u001b[0m \u001b[0;34m<\u001b[0m \u001b[0;36m2\u001b[0m\u001b[0;34m:\u001b[0m\u001b[0;34m\u001b[0m\u001b[0;34m\u001b[0m\u001b[0m\n\u001b[0;32m-> 1372\u001b[0;31m             raise ValueError(\"This solver needs samples of at least 2 classes\"\n\u001b[0m\u001b[1;32m   1373\u001b[0m                              \u001b[0;34m\" in the data, but the data contains only one\"\u001b[0m\u001b[0;34m\u001b[0m\u001b[0;34m\u001b[0m\u001b[0m\n\u001b[1;32m   1374\u001b[0m                              \" class: %r\" % classes_[0])\n",
      "\u001b[0;31mValueError\u001b[0m: This solver needs samples of at least 2 classes in the data, but the data contains only one class: False"
     ]
    }
   ],
   "source": [
    "%%time\n",
    "print(\"Learning Surprise\")\n",
    "clf_surprise = LogisticRegression(class_weight='balanced').fit(X_data, y_surprise_data)\n",
    "surprise_direction = clf_surprise.coef_.reshape((18, 512))\n",
    "np.save(os.path.join(TRAINED_DIRECTIONS, \"surprise_direction.npy\"), surprise_direction)"
   ]
  },
  {
   "cell_type": "code",
   "execution_count": 31,
   "metadata": {},
   "outputs": [
    {
     "name": "stdout",
     "output_type": "stream",
     "text": [
      "Learning Beard\n",
      "CPU times: user 3.71 s, sys: 43.9 ms, total: 3.75 s\n",
      "Wall time: 188 ms\n"
     ]
    }
   ],
   "source": [
    "%%time\n",
    "print(\"Learning Beard\")\n",
    "clf_beard = LogisticRegression(class_weight='balanced').fit(X_data, y_beard_data)\n",
    "beard_direction = clf_beard.coef_.reshape((18, 512))\n",
    "np.save(os.path.join(TRAINED_DIRECTIONS, \"beard_direction.npy\"), beard_direction)"
   ]
  },
  {
   "cell_type": "code",
   "execution_count": 32,
   "metadata": {},
   "outputs": [
    {
     "name": "stdout",
     "output_type": "stream",
     "text": [
      "Learning Moustache\n",
      "CPU times: user 3.74 s, sys: 32.2 ms, total: 3.77 s\n",
      "Wall time: 189 ms\n"
     ]
    }
   ],
   "source": [
    "%%time\n",
    "print(\"Learning Moustache\")\n",
    "clf_moustache = LogisticRegression(class_weight='balanced').fit(X_data, y_moustache_data)\n",
    "moustache_direction = clf_moustache.coef_.reshape((18, 512))\n",
    "np.save(os.path.join(TRAINED_DIRECTIONS, \"moustache_direction.npy\"), moustache_direction)"
   ]
  },
  {
   "cell_type": "code",
   "execution_count": 33,
   "metadata": {},
   "outputs": [
    {
     "name": "stdout",
     "output_type": "stream",
     "text": [
      "Learning Sideburns\n",
      "CPU times: user 2.7 s, sys: 32.3 ms, total: 2.74 s\n",
      "Wall time: 137 ms\n"
     ]
    }
   ],
   "source": [
    "%%time\n",
    "print(\"Learning Sideburns\")\n",
    "clf_sideburns = LogisticRegression(class_weight='balanced').fit(X_data, y_sideburns_data)\n",
    "sideburns_direction = clf_sideburns.coef_.reshape((18, 512))\n",
    "np.save(os.path.join(TRAINED_DIRECTIONS, \"sideburns_direction.npy\"), sideburns_direction)"
   ]
  },
  {
   "cell_type": "code",
   "execution_count": null,
   "metadata": {},
   "outputs": [],
   "source": []
  }
 ],
 "metadata": {
  "kernelspec": {
   "display_name": "Python 3",
   "language": "python",
   "name": "python3"
  },
  "language_info": {
   "codemirror_mode": {
    "name": "ipython",
    "version": 3
   },
   "file_extension": ".py",
   "mimetype": "text/x-python",
   "name": "python",
   "nbconvert_exporter": "python",
   "pygments_lexer": "ipython3",
   "version": "3.7.9"
  }
 },
 "nbformat": 4,
 "nbformat_minor": 4
}
